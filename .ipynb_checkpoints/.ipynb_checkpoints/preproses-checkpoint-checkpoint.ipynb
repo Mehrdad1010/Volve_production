{
 "cells": [
  {
   "cell_type": "markdown",
   "id": "a1bc108a-fb1e-4ada-aab0-532b0d6919c3",
   "metadata": {
    "jp-MarkdownHeadingCollapsed": true
   },
   "source": [
    "<p style=\"font-size:30px;\">Imports</p>"
   ]
  },
  {
   "cell_type": "code",
   "execution_count": 1,
   "id": "138a83dd-5d13-4a5e-b9f9-98203ca8cb38",
   "metadata": {},
   "outputs": [],
   "source": [
    "import numpy as np\n",
    "import pandas as pd\n",
    "import matplotlib.pyplot as plt\n",
    "plt.style.use(\"bmh\")\n",
    "from sklearn.ensemble import RandomForestRegressor\n",
    "from sklearn.metrics import r2_score, mean_absolute_error\n",
    "import seaborn as sns\n",
    "import plotly.express as px"
   ]
  },
  {
   "cell_type": "markdown",
   "id": "f8112505-5647-48f3-92e1-f5f85074a665",
   "metadata": {},
   "source": [
    "<p style=\"font-size:30px;\">read full data from excel in 5 rows</p>"
   ]
  },
  {
   "cell_type": "code",
   "execution_count": 2,
   "id": "144621b8-8a53-4457-809b-9c0c16573cc6",
   "metadata": {},
   "outputs": [
    {
     "data": {
      "text/html": [
       "<div>\n",
       "<style scoped>\n",
       "    .dataframe tbody tr th:only-of-type {\n",
       "        vertical-align: middle;\n",
       "    }\n",
       "\n",
       "    .dataframe tbody tr th {\n",
       "        vertical-align: top;\n",
       "    }\n",
       "\n",
       "    .dataframe thead th {\n",
       "        text-align: right;\n",
       "    }\n",
       "</style>\n",
       "<table border=\"1\" class=\"dataframe\">\n",
       "  <thead>\n",
       "    <tr style=\"text-align: right;\">\n",
       "      <th></th>\n",
       "      <th>DATEPRD</th>\n",
       "      <th>WELL_BORE_CODE</th>\n",
       "      <th>NPD_WELL_BORE_CODE</th>\n",
       "      <th>NPD_WELL_BORE_NAME</th>\n",
       "      <th>NPD_FIELD_CODE</th>\n",
       "      <th>NPD_FIELD_NAME</th>\n",
       "      <th>NPD_FACILITY_CODE</th>\n",
       "      <th>NPD_FACILITY_NAME</th>\n",
       "      <th>ON_STREAM_HRS</th>\n",
       "      <th>AVG_DOWNHOLE_PRESSURE</th>\n",
       "      <th>...</th>\n",
       "      <th>AVG_CHOKE_UOM</th>\n",
       "      <th>AVG_WHP_P</th>\n",
       "      <th>AVG_WHT_P</th>\n",
       "      <th>DP_CHOKE_SIZE</th>\n",
       "      <th>BORE_OIL_VOL</th>\n",
       "      <th>BORE_GAS_VOL</th>\n",
       "      <th>BORE_WAT_VOL</th>\n",
       "      <th>BORE_WI_VOL</th>\n",
       "      <th>FLOW_KIND</th>\n",
       "      <th>WELL_TYPE</th>\n",
       "    </tr>\n",
       "  </thead>\n",
       "  <tbody>\n",
       "    <tr>\n",
       "      <th>0</th>\n",
       "      <td>2014-04-07</td>\n",
       "      <td>NO 15/9-F-1 C</td>\n",
       "      <td>7405</td>\n",
       "      <td>15/9-F-1 C</td>\n",
       "      <td>3420717</td>\n",
       "      <td>VOLVE</td>\n",
       "      <td>369304</td>\n",
       "      <td>MÆRSK INSPIRER</td>\n",
       "      <td>0.0</td>\n",
       "      <td>0.00000</td>\n",
       "      <td>...</td>\n",
       "      <td>%</td>\n",
       "      <td>0.00000</td>\n",
       "      <td>0.00000</td>\n",
       "      <td>0.00000</td>\n",
       "      <td>0.0</td>\n",
       "      <td>0.0</td>\n",
       "      <td>0.0</td>\n",
       "      <td>NaN</td>\n",
       "      <td>production</td>\n",
       "      <td>WI</td>\n",
       "    </tr>\n",
       "    <tr>\n",
       "      <th>1</th>\n",
       "      <td>2014-04-08</td>\n",
       "      <td>NO 15/9-F-1 C</td>\n",
       "      <td>7405</td>\n",
       "      <td>15/9-F-1 C</td>\n",
       "      <td>3420717</td>\n",
       "      <td>VOLVE</td>\n",
       "      <td>369304</td>\n",
       "      <td>MÆRSK INSPIRER</td>\n",
       "      <td>0.0</td>\n",
       "      <td>NaN</td>\n",
       "      <td>...</td>\n",
       "      <td>%</td>\n",
       "      <td>0.00000</td>\n",
       "      <td>0.00000</td>\n",
       "      <td>0.00000</td>\n",
       "      <td>0.0</td>\n",
       "      <td>0.0</td>\n",
       "      <td>0.0</td>\n",
       "      <td>NaN</td>\n",
       "      <td>production</td>\n",
       "      <td>OP</td>\n",
       "    </tr>\n",
       "    <tr>\n",
       "      <th>2</th>\n",
       "      <td>2014-04-09</td>\n",
       "      <td>NO 15/9-F-1 C</td>\n",
       "      <td>7405</td>\n",
       "      <td>15/9-F-1 C</td>\n",
       "      <td>3420717</td>\n",
       "      <td>VOLVE</td>\n",
       "      <td>369304</td>\n",
       "      <td>MÆRSK INSPIRER</td>\n",
       "      <td>0.0</td>\n",
       "      <td>NaN</td>\n",
       "      <td>...</td>\n",
       "      <td>%</td>\n",
       "      <td>0.00000</td>\n",
       "      <td>0.00000</td>\n",
       "      <td>0.00000</td>\n",
       "      <td>0.0</td>\n",
       "      <td>0.0</td>\n",
       "      <td>0.0</td>\n",
       "      <td>NaN</td>\n",
       "      <td>production</td>\n",
       "      <td>OP</td>\n",
       "    </tr>\n",
       "    <tr>\n",
       "      <th>3</th>\n",
       "      <td>2014-04-10</td>\n",
       "      <td>NO 15/9-F-1 C</td>\n",
       "      <td>7405</td>\n",
       "      <td>15/9-F-1 C</td>\n",
       "      <td>3420717</td>\n",
       "      <td>VOLVE</td>\n",
       "      <td>369304</td>\n",
       "      <td>MÆRSK INSPIRER</td>\n",
       "      <td>0.0</td>\n",
       "      <td>NaN</td>\n",
       "      <td>...</td>\n",
       "      <td>%</td>\n",
       "      <td>0.00000</td>\n",
       "      <td>0.00000</td>\n",
       "      <td>0.00000</td>\n",
       "      <td>0.0</td>\n",
       "      <td>0.0</td>\n",
       "      <td>0.0</td>\n",
       "      <td>NaN</td>\n",
       "      <td>production</td>\n",
       "      <td>OP</td>\n",
       "    </tr>\n",
       "    <tr>\n",
       "      <th>4</th>\n",
       "      <td>2014-04-11</td>\n",
       "      <td>NO 15/9-F-1 C</td>\n",
       "      <td>7405</td>\n",
       "      <td>15/9-F-1 C</td>\n",
       "      <td>3420717</td>\n",
       "      <td>VOLVE</td>\n",
       "      <td>369304</td>\n",
       "      <td>MÆRSK INSPIRER</td>\n",
       "      <td>0.0</td>\n",
       "      <td>310.37614</td>\n",
       "      <td>...</td>\n",
       "      <td>%</td>\n",
       "      <td>33.09788</td>\n",
       "      <td>10.47992</td>\n",
       "      <td>33.07195</td>\n",
       "      <td>0.0</td>\n",
       "      <td>0.0</td>\n",
       "      <td>0.0</td>\n",
       "      <td>NaN</td>\n",
       "      <td>production</td>\n",
       "      <td>OP</td>\n",
       "    </tr>\n",
       "  </tbody>\n",
       "</table>\n",
       "<p>5 rows × 24 columns</p>\n",
       "</div>"
      ],
      "text/plain": [
       "     DATEPRD WELL_BORE_CODE  NPD_WELL_BORE_CODE NPD_WELL_BORE_NAME  \\\n",
       "0 2014-04-07  NO 15/9-F-1 C                7405         15/9-F-1 C   \n",
       "1 2014-04-08  NO 15/9-F-1 C                7405         15/9-F-1 C   \n",
       "2 2014-04-09  NO 15/9-F-1 C                7405         15/9-F-1 C   \n",
       "3 2014-04-10  NO 15/9-F-1 C                7405         15/9-F-1 C   \n",
       "4 2014-04-11  NO 15/9-F-1 C                7405         15/9-F-1 C   \n",
       "\n",
       "   NPD_FIELD_CODE NPD_FIELD_NAME  NPD_FACILITY_CODE NPD_FACILITY_NAME  \\\n",
       "0         3420717          VOLVE             369304    MÆRSK INSPIRER   \n",
       "1         3420717          VOLVE             369304    MÆRSK INSPIRER   \n",
       "2         3420717          VOLVE             369304    MÆRSK INSPIRER   \n",
       "3         3420717          VOLVE             369304    MÆRSK INSPIRER   \n",
       "4         3420717          VOLVE             369304    MÆRSK INSPIRER   \n",
       "\n",
       "   ON_STREAM_HRS  AVG_DOWNHOLE_PRESSURE  ...  AVG_CHOKE_UOM  AVG_WHP_P  \\\n",
       "0            0.0                0.00000  ...              %    0.00000   \n",
       "1            0.0                    NaN  ...              %    0.00000   \n",
       "2            0.0                    NaN  ...              %    0.00000   \n",
       "3            0.0                    NaN  ...              %    0.00000   \n",
       "4            0.0              310.37614  ...              %   33.09788   \n",
       "\n",
       "   AVG_WHT_P  DP_CHOKE_SIZE BORE_OIL_VOL  BORE_GAS_VOL  BORE_WAT_VOL  \\\n",
       "0    0.00000        0.00000          0.0           0.0           0.0   \n",
       "1    0.00000        0.00000          0.0           0.0           0.0   \n",
       "2    0.00000        0.00000          0.0           0.0           0.0   \n",
       "3    0.00000        0.00000          0.0           0.0           0.0   \n",
       "4   10.47992       33.07195          0.0           0.0           0.0   \n",
       "\n",
       "   BORE_WI_VOL   FLOW_KIND  WELL_TYPE  \n",
       "0          NaN  production         WI  \n",
       "1          NaN  production         OP  \n",
       "2          NaN  production         OP  \n",
       "3          NaN  production         OP  \n",
       "4          NaN  production         OP  \n",
       "\n",
       "[5 rows x 24 columns]"
      ]
     },
     "execution_count": 2,
     "metadata": {},
     "output_type": "execute_result"
    }
   ],
   "source": [
    "df = pd.read_excel(\"./Data/Volve production data.xlsx\")\n",
    "df.head()          #It is used to show the beginning lines"
   ]
  },
  {
   "cell_type": "code",
   "execution_count": null,
   "id": "25956638-3c43-4af7-b8c6-bf345862b2fd",
   "metadata": {},
   "outputs": [],
   "source": [
    "df.info()"
   ]
  },
  {
   "cell_type": "code",
   "execution_count": null,
   "id": "42633610-03f0-41cf-a975-01958323fc91",
   "metadata": {},
   "outputs": [],
   "source": [
    "A= sns.heatmap(df.isnull(),yticklabels=False,cbar=False,cmap='viridis')\n",
    "plt.xticks(rotation = 45, ha = 'right')"
   ]
  },
  {
   "cell_type": "code",
   "execution_count": null,
   "id": "fc5380d1-9b5a-41d1-aa66-7850a9df87db",
   "metadata": {},
   "outputs": [],
   "source": [
    "# to get the type of well available (either Injector WI or producer OP)\n",
    "df['WELL_TYPE'].unique()"
   ]
  },
  {
   "cell_type": "code",
   "execution_count": null,
   "id": "fcdcf07f-b27f-4bb5-aa53-1bd89be4dae0",
   "metadata": {},
   "outputs": [],
   "source": [
    "df['NPD_WELL_BORE_CODE'].unique()\n",
    "# this returns all the unique well codes, Here we see that there are total of 7 unique wells"
   ]
  },
  {
   "cell_type": "code",
   "execution_count": null,
   "id": "d19af004-1503-4d16-9c79-413416b214e2",
   "metadata": {},
   "outputs": [],
   "source": [
    "# let us filter only the producing well data which have well type as OP \n",
    "df[df['WELL_TYPE'] == 'OP']['NPD_WELL_BORE_CODE'].unique()"
   ]
  },
  {
   "cell_type": "code",
   "execution_count": null,
   "id": "3ab45f37-f170-4539-80cf-1e3baace488e",
   "metadata": {},
   "outputs": [],
   "source": [
    "#let us create a filtered/cleaned dataframe and store only the data for producer type wells for our anaysis\n",
    "df_filtered =df[df['WELL_TYPE'] == 'OP']"
   ]
  },
  {
   "cell_type": "code",
   "execution_count": null,
   "id": "d7a02ea3-87a2-4e80-997f-a2c28bd3873d",
   "metadata": {},
   "outputs": [],
   "source": [
    "# the dataframe has many columns that are not useful for our analysis\n",
    "# droping all these column in our filtered dataframe as these are not useful for our study\n",
    "df_filtered.drop(labels=['WELL_BORE_CODE',\n",
    "                         'NPD_WELL_BORE_NAME',\n",
    "                         'NPD_FIELD_CODE',\n",
    "                         'NPD_FIELD_NAME',\n",
    "                         'NPD_FACILITY_CODE',\n",
    "                         'NPD_FACILITY_NAME',\n",
    "                        'AVG_CHOKE_UOM',\n",
    "                        'FLOW_KIND',\n",
    "                        'WELL_TYPE'], axis=1)\n"
   ]
  },
  {
   "cell_type": "code",
   "execution_count": null,
   "id": "c0ae3bff-cdec-49cc-accf-27998353a367",
   "metadata": {},
   "outputs": [],
   "source": [
    "# After droping unuseful columns, we can again plot a heatmap plot to visualize null data in our dataframe\n",
    "sns.heatmap(df_filtered.isnull(),yticklabels=False,cbar=False,cmap='viridis')\n",
    "plt.xticks(rotation = 45, ha = 'right')"
   ]
  },
  {
   "cell_type": "code",
   "execution_count": null,
   "id": "f0670698-3fd5-4fc8-b059-9d365cf62c30",
   "metadata": {},
   "outputs": [],
   "source": [
    "df_filtered['NPD_WELL_BORE_CODE'].value_counts()\n",
    "# counts number of data available for each well id"
   ]
  },
  {
   "cell_type": "code",
   "execution_count": null,
   "id": "88d9e637-0bf6-4849-bb6d-e3690492943a",
   "metadata": {},
   "outputs": [],
   "source": [
    "#from the seaborn library , we can use the Empirical Cumulative Distribution Function , and plot the oil production from all those wells having code as producers \n",
    "\n",
    "sns.ecdfplot(x='BORE_OIL_VOL',data=df_filtered, hue='NPD_WELL_BORE_CODE',palette=['r', 'g', 'b', 'y', 'brown', 'magenta'])\n",
    "\n",
    "plt.show()"
   ]
  },
  {
   "cell_type": "code",
   "execution_count": null,
   "id": "804308f1-5b22-4156-9e86-8422f29f6d2c",
   "metadata": {},
   "outputs": [],
   "source": [
    "# Another Scatter plot to show the oil production from these producer wells. Clearly the wells #7405, # 5769, #7289 production volume is insignificant\n",
    "# df_filtered[\"NPD_WELL_BORE_CODE\"] = df_filtered[\"NPD_WELL_BORE_CODE\"].astype(str)\n",
    "fig = px.scatter(df_filtered, x=\"DATEPRD\", y=\"BORE_OIL_VOL\",\n",
    "                 color=\"NPD_WELL_BORE_CODE\",\n",
    "                 hover_name=\"NPD_WELL_BORE_CODE\")\n",
    "fig"
   ]
  },
  {
   "cell_type": "code",
   "execution_count": null,
   "id": "59a2b5eb-8352-40eb-b175-1bb22fc54c13",
   "metadata": {},
   "outputs": [],
   "source": []
  }
 ],
 "metadata": {
  "kernelspec": {
   "display_name": "Python 3 (ipykernel)",
   "language": "python",
   "name": "python3"
  },
  "language_info": {
   "codemirror_mode": {
    "name": "ipython",
    "version": 3
   },
   "file_extension": ".py",
   "mimetype": "text/x-python",
   "name": "python",
   "nbconvert_exporter": "python",
   "pygments_lexer": "ipython3",
   "version": "3.12.1"
  }
 },
 "nbformat": 4,
 "nbformat_minor": 5
}
